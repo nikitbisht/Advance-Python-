{
 "cells": [
  {
   "cell_type": "code",
   "execution_count": 1,
   "id": "7cbf2461-975e-4ced-beb9-1984fe4e519b",
   "metadata": {},
   "outputs": [],
   "source": [
    "import re"
   ]
  },
  {
   "cell_type": "code",
   "execution_count": 2,
   "id": "a3215774-b862-4d43-9646-d12f801343ba",
   "metadata": {},
   "outputs": [
    {
     "data": {
      "text/plain": [
       "['9991116666', '(999)-333-7777']"
      ]
     },
     "execution_count": 2,
     "metadata": {},
     "output_type": "execute_result"
    }
   ],
   "source": [
    "text = '''elone musk phone no is 9991116666, call him if you have any wusetion oin dodgecoin, tesla's revenue is 40 billion,(999)-333-7777'''\n",
    "patten = r'\\(\\d{3}\\)-\\d{3}-\\d{4}|\\d{10}'\n",
    "matches = re.findall(patten,text)\n",
    "matches"
   ]
  },
  {
   "cell_type": "code",
   "execution_count": 9,
   "id": "98596eda-c94d-46a8-acf2-ab1413e6f047",
   "metadata": {},
   "outputs": [
    {
     "data": {
      "text/plain": [
       "['Overview', 'Signifiacne of AI']"
      ]
     },
     "execution_count": 9,
     "metadata": {},
     "output_type": "execute_result"
    }
   ],
   "source": [
    "text = '''Note 1 - Overview\n",
    "tesla jasdasdfl \n",
    "Note 2 - Signifiacne of AI\n",
    "asdfasdfasdfaqfdasdfaqsdf asdf'''\n",
    "patten = r'Note \\d - ([^\\n]*)'\n",
    "matches = re.findall(patten,text)\n",
    "matches"
   ]
  },
  {
   "cell_type": "code",
   "execution_count": 26,
   "id": "f6230a8b-c45d-4dfe-a181-9240f8a0551f",
   "metadata": {},
   "outputs": [
    {
     "data": {
      "text/plain": [
       "['2021 Q1', '2020 Q4']"
      ]
     },
     "execution_count": 26,
     "metadata": {},
     "output_type": "execute_result"
    }
   ],
   "source": [
    "text = ''' \n",
    "The gross cost of operating lease vehicles in FY2021 Q1 was $4.85 billion,\n",
    "In previous quarter i.e fY2020 Q4 it was $3 billion.\n",
    "In previous quarter i.e FY2019 Q5 it was $3 billion.\n",
    "'''\n",
    "#patten = r'FY\\d{4} Q[1234]'\n",
    "patten = r'FY(\\d{4} Q[1-4])'\n",
    "matches = re.findall(patten,text,flags = re.IGNORECASE)\n",
    "matches"
   ]
  },
  {
   "cell_type": "code",
   "execution_count": 40,
   "id": "b000f1b5-c0ec-448b-a8ba-eb9c03989086",
   "metadata": {},
   "outputs": [
    {
     "data": {
      "text/plain": [
       "['4.85', '3']"
      ]
     },
     "execution_count": 40,
     "metadata": {},
     "output_type": "execute_result"
    }
   ],
   "source": [
    "text = ''' \n",
    "The gross cost of operating lease vehicles in FY2021 Q1 was $4.85 billion,\n",
    "In previous quarter i.e fY2020 Q4 it was $3 billion.\n",
    "'''\n",
    "\n",
    "patten = r'\\$([\\d\\.]*)'\n",
    "matches = re.findall(patten,text)\n",
    "matches"
   ]
  },
  {
   "cell_type": "code",
   "execution_count": 48,
   "id": "218b6f6a-56bd-4ef9-b233-a2543686a699",
   "metadata": {},
   "outputs": [
    {
     "data": {
      "text/plain": [
       "[('2021 Q1', '4.85'), ('2020 Q4', '3')]"
      ]
     },
     "execution_count": 48,
     "metadata": {},
     "output_type": "execute_result"
    }
   ],
   "source": [
    "text = ''' \n",
    "The gross cost of operating lease vehicles in FY2021 Q1 was $4.85 billion,\n",
    "In previous quarter i.e fY2020 Q4 it was $3 billion.\n",
    "'''\n",
    "\n",
    "patten = r'FY(\\d{4} Q[1-4]) [^\\$]+\\$([\\d\\.]*)'\n",
    "matches = re.findall(patten,text,flags = re.IGNORECASE)\n",
    "matches"
   ]
  },
  {
   "cell_type": "code",
   "execution_count": null,
   "id": "645bd9b1-b938-4011-9cd1-931017d33871",
   "metadata": {},
   "outputs": [],
   "source": []
  },
  {
   "cell_type": "code",
   "execution_count": null,
   "id": "97c0a4d0-c037-461e-a777-6eeec7fd14c9",
   "metadata": {},
   "outputs": [],
   "source": []
  }
 ],
 "metadata": {
  "kernelspec": {
   "display_name": "Python 3 (ipykernel)",
   "language": "python",
   "name": "python3"
  },
  "language_info": {
   "codemirror_mode": {
    "name": "ipython",
    "version": 3
   },
   "file_extension": ".py",
   "mimetype": "text/x-python",
   "name": "python",
   "nbconvert_exporter": "python",
   "pygments_lexer": "ipython3",
   "version": "3.12.2"
  }
 },
 "nbformat": 4,
 "nbformat_minor": 5
}
