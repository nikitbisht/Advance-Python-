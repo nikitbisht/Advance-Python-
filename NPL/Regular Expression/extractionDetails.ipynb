{
 "cells": [
  {
   "cell_type": "code",
   "execution_count": 5,
   "id": "70237df0-cbe4-4e69-b2ba-c56ef3bb15b0",
   "metadata": {},
   "outputs": [],
   "source": [
    "import re"
   ]
  },
  {
   "cell_type": "code",
   "execution_count": 22,
   "id": "b47aed8c-f2ee-4244-b17b-61c42c6909a2",
   "metadata": {},
   "outputs": [],
   "source": [
    "text = '''chat1 codebasics you-ask lot ot question   1234567891, abc@gmail.com\n",
    "chat3 codebasics you-ask lot ot question  (123)-567-8912, abc@gmail.com\n",
    "chat3 codebasics you-ask lot ot question   1234567891, abc@gmail.com\n",
    "'''"
   ]
  },
  {
   "cell_type": "code",
   "execution_count": 23,
   "id": "3eff099f-2144-4914-9d48-6bbb07c7fcff",
   "metadata": {},
   "outputs": [
    {
     "data": {
      "text/plain": [
       "['1234567891', '(123)-567-8912', '1234567891']"
      ]
     },
     "execution_count": 23,
     "metadata": {},
     "output_type": "execute_result"
    }
   ],
   "source": [
    "patten = r'\\(\\d{3}\\)-\\d{3}-\\d{4}|\\d{10}'\n",
    "matches = re.findall(patten , text)\n",
    "matches"
   ]
  },
  {
   "cell_type": "code",
   "execution_count": 24,
   "id": "c5bcf7a0-d119-4b74-bd73-6a007ea0cb0f",
   "metadata": {},
   "outputs": [
    {
     "data": {
      "text/plain": [
       "['abc@gmail.com', 'abc@gmail.com', 'abc@gmail.com']"
      ]
     },
     "execution_count": 24,
     "metadata": {},
     "output_type": "execute_result"
    }
   ],
   "source": [
    "patten = r'[a-zA-Z0-9]*@[a-z]*.com'\n",
    "matches = re.findall(patten , text)\n",
    "matches"
   ]
  },
  {
   "cell_type": "code",
   "execution_count": 25,
   "id": "5883d349-0f94-4521-be01-3683200e537d",
   "metadata": {},
   "outputs": [
    {
     "data": {
      "text/plain": [
       "['412889912']"
      ]
     },
     "execution_count": 25,
     "metadata": {},
     "output_type": "execute_result"
    }
   ],
   "source": [
    "chat1 = 'Nikit: Hello, i am having an issue with my order # 412889912'\n",
    "chat2 = 'Nikit: i have a problem with my order number 412889912'\n",
    "chat3 = 'Nikit: my order 412889912 is having an issue, i was charged 300$ when onlimme it says 200$'\n",
    "patten = r'order[^\\d]*(\\d*)'\n",
    "matches = re.findall(patten,chat1)\n",
    "#matches = re.findall(patten,chat2)\n",
    "#matches = re.findall(patten,chat3)\n",
    "matches"
   ]
  },
  {
   "cell_type": "code",
   "execution_count": 26,
   "id": "baf611f5-2933-404f-8718-5b3d48b00426",
   "metadata": {},
   "outputs": [],
   "source": [
    "text = '''Born\tElon Reeve Musk\n",
    "June 28, 1971 (age 52)\n",
    "Pretoria, Transvaal, South Africa\n",
    "Citizenship\t\n",
    "South Africa\n",
    "Canada\n",
    "United States\n",
    "Education\tUniversity of Pennsylvania (BA, BS)\n",
    "Title\t\n",
    "Founder, CEO, and chief engineer of SpaceX\n",
    "CEO and product architect of Tesla, Inc.\n",
    "Owner, CTO and Executive Chairman of X (formerly Twitter)\n",
    "President of the Musk Foundation\n",
    "Founder of The Boring Company, X Corp., and xAI\n",
    "Co-founder of Neuralink, OpenAI, Zip2, and X.com (part of PayPal)\n",
    "Spouses\t\n",
    "Justine Wilson\n",
    "​\n",
    "​(m. 2000; div. 2008)​\n",
    "Talulah Riley\n",
    "​\n",
    "​(m. 2010; div. 2012)​\n",
    "​\n",
    "​(m. 2013; div. 2016)​\n",
    "Partners\t\n",
    "Amber Heard (2015–2017)[1]\n",
    "Grimes (2018–2021)[2]'''"
   ]
  },
  {
   "cell_type": "code",
   "execution_count": 21,
   "id": "de1da750-3a88-453a-9627-37883c27daa6",
   "metadata": {},
   "outputs": [
    {
     "data": {
      "text/plain": [
       "['52']"
      ]
     },
     "execution_count": 21,
     "metadata": {},
     "output_type": "execute_result"
    }
   ],
   "source": [
    "#find age\n",
    "patten = r'age (\\d+)'\n",
    "matches = re.findall(patten , text)\n",
    "matches"
   ]
  },
  {
   "cell_type": "code",
   "execution_count": 36,
   "id": "edaed301-f8b3-4184-87a1-abc77f206ce1",
   "metadata": {},
   "outputs": [
    {
     "data": {
      "text/plain": [
       "'Elon Reeve Musk'"
      ]
     },
     "execution_count": 36,
     "metadata": {},
     "output_type": "execute_result"
    }
   ],
   "source": [
    "#find name\n",
    "patten = r'born(.*)'\n",
    "matches = re.findall(patten , text, flags = re.IGNORECASE)\n",
    "matches[0].strip()"
   ]
  },
  {
   "cell_type": "code",
   "execution_count": 42,
   "id": "9918aabc-96f3-47f2-a35a-032ee466e800",
   "metadata": {},
   "outputs": [
    {
     "data": {
      "text/plain": [
       "['June 28, 1971 ']"
      ]
     },
     "execution_count": 42,
     "metadata": {},
     "output_type": "execute_result"
    }
   ],
   "source": [
    "#find dob\n",
    "patten = r'born.*\\n(.*)\\(age'\n",
    "matches = re.findall(patten , text, flags = re.IGNORECASE)\n",
    "matches"
   ]
  },
  {
   "cell_type": "code",
   "execution_count": 45,
   "id": "931d06dd-75ae-445c-83f1-d662b8cd0188",
   "metadata": {},
   "outputs": [
    {
     "data": {
      "text/plain": [
       "['Pretoria, Transvaal, South Africa']"
      ]
     },
     "execution_count": 45,
     "metadata": {},
     "output_type": "execute_result"
    }
   ],
   "source": [
    "#find address\n",
    "patten = r'\\(age.*\\n(.*)'\n",
    "matches = re.findall(patten , text, flags = re.IGNORECASE)\n",
    "matches"
   ]
  },
  {
   "cell_type": "code",
   "execution_count": 46,
   "id": "ed3c7fda-3b6f-4398-aafa-fd75e64dd145",
   "metadata": {},
   "outputs": [],
   "source": [
    "def get_patten_match(patten,text):\n",
    "    matches = re.findall(patten,text, flags = re.IGNORECASE)\n",
    "    if matches:\n",
    "        return matches[0]\n",
    "        "
   ]
  },
  {
   "cell_type": "code",
   "execution_count": 58,
   "id": "17253158-c9cd-43cf-9a54-6fbe4342c6b5",
   "metadata": {},
   "outputs": [],
   "source": [
    "def get_personal_info(text):\n",
    "    age = get_patten_match(r'\\(age ([\\d]+)\\)',text)\n",
    "    name = get_patten_match(r'Born(.*)\\n',text)\n",
    "    birth_date = get_patten_match(r'Born.*\\n(.*)\\(age',text)\n",
    "    birth_place = get_patten_match(r'\\(age.*\\n(.*)',text)\n",
    "\n",
    "    return {\n",
    "        'age': int(age),\n",
    "        'name' : name.strip(),\n",
    "        'birth_data' : birth_date.strip(),\n",
    "        'birth_place' : birth_place.strip()\n",
    "    }"
   ]
  },
  {
   "cell_type": "code",
   "execution_count": 59,
   "id": "e17a1f90-7021-4462-9721-c5c18817f5ff",
   "metadata": {},
   "outputs": [
    {
     "data": {
      "text/plain": [
       "{'age': 52,\n",
       " 'name': 'Elon Reeve Musk',\n",
       " 'birth_data': 'June 28, 1971',\n",
       " 'birth_place': 'Pretoria, Transvaal, South Africa'}"
      ]
     },
     "execution_count": 59,
     "metadata": {},
     "output_type": "execute_result"
    }
   ],
   "source": [
    "get_personal_info(text)"
   ]
  },
  {
   "cell_type": "code",
   "execution_count": null,
   "id": "4331dd23-4f5c-4655-9c1e-3189c3aaa03d",
   "metadata": {},
   "outputs": [],
   "source": []
  }
 ],
 "metadata": {
  "kernelspec": {
   "display_name": "Python 3 (ipykernel)",
   "language": "python",
   "name": "python3"
  },
  "language_info": {
   "codemirror_mode": {
    "name": "ipython",
    "version": 3
   },
   "file_extension": ".py",
   "mimetype": "text/x-python",
   "name": "python",
   "nbconvert_exporter": "python",
   "pygments_lexer": "ipython3",
   "version": "3.12.2"
  }
 },
 "nbformat": 4,
 "nbformat_minor": 5
}
